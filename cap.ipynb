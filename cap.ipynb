{
 "cells": [
  {
   "cell_type": "markdown",
   "metadata": {},
   "source": [
    "CAP – Cumulative Accuracy Profile\n",
    "Analysis with PYTHON\n",
    "\n",
    "CAP popularly called the ‘Cumulative Accuracy Profile’ is used in the performance evaluation of the classification model. It helps us to understand and conclude about the robustness of the classification model. In order to visualize this, three distinct curves are plotted in our plot:\n",
    "\n",
    "A random plot\n",
    "A plot obtained by using a SVM classifier or a random forest classifier\n",
    "A perfect plot( an ideal line)\n",
    "\n",
    "\n",
    "We are working the DATA to understand the concept.\n",
    "\n",
    "Code: Loading dataset"
   ]
  },
  {
   "cell_type": "code",
   "execution_count": 9,
   "metadata": {},
   "outputs": [
    {
     "name": "stdout",
     "output_type": "stream",
     "text": [
      "Data Head: \n",
      " \n",
      "     User ID  Gender  Age  EstimatedSalary  Purchased\n",
      "0  15624510    Male   19            19000          0\n",
      "1  15810944    Male   35            20000          0\n",
      "2  15668575  Female   26            43000          0\n",
      "3  15603246  Female   27            57000          0\n",
      "4  15804002    Male   19            76000          0\n"
     ]
    }
   ],
   "source": [
    "# import libraries\n",
    "import numpy as np\n",
    "import pandas as pd\n",
    "import seaborn as sns\n",
    "import matplotlib.pyplot as plt\n",
    "\n",
    "#loading dataset\n",
    "data = pd.read_csv('/Users/Balaram/Documents/python/PracticalPython/Datasets/Social_Network_Ads.csv')\n",
    "\n",
    "print (\"Data Head: \\n \\n\",data.head())"
   ]
  },
  {
   "cell_type": "code",
   "execution_count": 10,
   "metadata": {},
   "outputs": [],
   "source": [
    "#input and output"
   ]
  },
  {
   "cell_type": "code",
   "execution_count": 17,
   "metadata": {},
   "outputs": [
    {
     "name": "stdout",
     "output_type": "stream",
     "text": [
      "input : \n",
      "    Age  EstimatedSalary\n",
      "0   19            19000\n",
      "1   35            20000\n",
      "2   26            43000\n",
      "3   27            57000\n",
      "4   19            76000\n",
      "5   27            58000\n",
      "6   27            84000\n",
      "7   32           150000\n",
      "8   25            33000\n",
      "9   35            65000\n"
     ]
    }
   ],
   "source": [
    "#x = data.iloc[rows,columns]\n",
    "\n",
    "x = data.iloc[:,2:4]\n",
    "y = data.iloc[:,4]\n",
    "\n",
    "print(\"input : \\n\",x.iloc[0:10,:])"
   ]
  },
  {
   "cell_type": "markdown",
   "metadata": {},
   "source": [
    "Code : Splitting dataset for training and testing."
   ]
  },
  {
   "cell_type": "code",
   "execution_count": 22,
   "metadata": {},
   "outputs": [],
   "source": [
    "# splitting data \n",
    "from sklearn.model_selection import train_test_split\n",
    "x_train, x_test, y_train, y_test = train_test_split(x,y,test_size = 0.3, random_state = 0)"
   ]
  },
  {
   "cell_type": "markdown",
   "metadata": {},
   "source": [
    "Code : Random Forest Classifier"
   ]
  },
  {
   "cell_type": "code",
   "execution_count": 24,
   "metadata": {},
   "outputs": [],
   "source": [
    "# classifier\n",
    "from sklearn.ensemble import RandomForestClassifier \n",
    "classifier = RandomForestClassifier(n_estimators = 400) \n",
    "  \n",
    "# training \n",
    "classifier.fit(x_train, y_train) \n",
    "  \n",
    "# predicting \n",
    "pred = classifier.predict(x_test) \n"
   ]
  },
  {
   "cell_type": "markdown",
   "metadata": {},
   "source": [
    "Code : Finding the classifier accuracy."
   ]
  },
  {
   "cell_type": "code",
   "execution_count": 25,
   "metadata": {},
   "outputs": [
    {
     "name": "stdout",
     "output_type": "stream",
     "text": [
      "Accuracy :  90.83333333333333\n"
     ]
    }
   ],
   "source": [
    "# Model Performance \n",
    "from sklearn.metrics import accuracy_score \n",
    "print(\"Accuracy : \", accuracy_score(y_test, pred) *  100) \n"
   ]
  },
  {
   "cell_type": "markdown",
   "metadata": {},
   "source": [
    "Random Model\n",
    "The random plot is made under the assumption that we have plotted the total number of points ranging from 0 to the total number of data points in the dataset. The y-axis has been kept as the total number of points for which the dependent variable from our dataset has the outcome as 1. The random plot can be understood like a linearly increasing relationship. An example is a model that predicts whether a product is bought (positive outcome) by each individual from a group of people (classifying parameter) based on factors such as their gender, age, income etc. If group members would be contacted at random, the cumulative number of products sold would rise linearly toward a maximum value corresponding to the total number of buyers within the group. This distribution is called the “random” CAP\n",
    "\n",
    "Code : Random Model"
   ]
  },
  {
   "cell_type": "code",
   "execution_count": 26,
   "metadata": {},
   "outputs": [
    {
     "data": {
      "text/plain": [
       "<matplotlib.legend.Legend at 0x1a1c2a8210>"
      ]
     },
     "execution_count": 26,
     "metadata": {},
     "output_type": "execute_result"
    },
    {
     "data": {
      "image/png": "[encoded data removed]",
      "text/plain": [
       "<Figure size 720x432 with 1 Axes>"
      ]
     },
     "metadata": {
      "needs_background": "light"
     },
     "output_type": "display_data"
    }
   ],
   "source": [
    "# code for the random plot \n",
    "import matplotlib.pyplot as plt \n",
    "import numpy as np \n",
    "  \n",
    "# length of the test data \n",
    "total = len(y_test) \n",
    "  \n",
    "# Counting '1' labels in test data \n",
    "one_count = np.sum(y_test) \n",
    "  \n",
    "# counting '0' lables in test data  \n",
    "zero_count = total - one_count \n",
    "  \n",
    "plt.figure(figsize = (10, 6)) \n",
    "  \n",
    "# x-axis ranges from 0 to total people contacted  \n",
    "# y-axis ranges from 0 to the total positive outcomes. \n",
    "  \n",
    "plt.plot([0, total], [0, one_count], c = 'b',  \n",
    "         linestyle = '--', label = 'Random Model') \n",
    "plt.legend() "
   ]
  },
  {
   "cell_type": "markdown",
   "metadata": {},
   "source": [
    "Random Forest Classifier Line\n",
    "Code : Random forest classification algorithm is applied to the dataset for the random classifier line plot"
   ]
  },
  {
   "cell_type": "code",
   "execution_count": 29,
   "metadata": {},
   "outputs": [
    {
     "data": {
      "text/plain": [
       "[<matplotlib.lines.Line2D at 0x1a1f2543d0>]"
      ]
     },
     "execution_count": 29,
     "metadata": {},
     "output_type": "execute_result"
    },
    {
     "data": {
      "image/png": "[encoded data removed]",
      "text/plain": [
       "<Figure size 432x288 with 1 Axes>"
      ]
     },
     "metadata": {
      "needs_background": "light"
     },
     "output_type": "display_data"
    }
   ],
   "source": [
    "lm = [y for _, y in sorted(zip(pred, y_test), reverse = True)] \n",
    "x = np.arange(0, total + 1) \n",
    "y = np.append([0], np.cumsum(lm)) \n",
    "plt.plot(x, y, c = 'b', label = 'Random classifier', linewidth = 2) "
   ]
  },
  {
   "cell_type": "markdown",
   "metadata": {},
   "source": [
    "Explanation: pred is the prediction made by the random classifier. We zip the prediction and test values and sort it in the reverse order so that higher values come first and then the lower values. We extract only the y_test values in an array and store it in lm. np.cumsum() creates an array of values while cumulatively adding all previous values in the array to the present value.The x-values will be ranging from 0 to the total + 1. We add one to the total cause arange() does not include one to the array and we want the x axis to range from 0 to the total.\n",
    "\n",
    "Perfect Model\n",
    "We then plot the perfect plot(or the ideal line). A perfect prediction determines exactly which group members will buy the product, such that the maximum number of products sold will be reached with a minimum number of calls. This produces a steep line on the CAP curve that stays flat once the maximum is reached (contacting all other group members will not lead to more products sold), which is the “perfect” CAP.\n"
   ]
  },
  {
   "cell_type": "code",
   "execution_count": 30,
   "metadata": {},
   "outputs": [
    {
     "data": {
      "text/plain": [
       "[<matplotlib.lines.Line2D at 0x1a1f32e410>]"
      ]
     },
     "execution_count": 30,
     "metadata": {},
     "output_type": "execute_result"
    },
    {
     "data": {
      "image/png": "[encoded data removed]",
      "text/plain": [
       "<Figure size 432x288 with 1 Axes>"
      ]
     },
     "metadata": {
      "needs_background": "light"
     },
     "output_type": "display_data"
    }
   ],
   "source": [
    "plt.plot([0, one_count, total], [0, one_count, one_count], \n",
    "\t\tc = 'grey', linewidth = 2, label = 'Perfect Model') \n"
   ]
  },
  {
   "cell_type": "markdown",
   "metadata": {},
   "source": [
    "Explanation: A perfect model finds positive outcomes in the same number of tries as the number of positive outcomes. We have total of 41 positive outcomes in our dataset and so at exactly 41, the maximum is achieved.\n",
    "\n",
    "FINAL ANALYSIS:\n",
    "In any case, our classifier algorithm should not produce a line that lies under the random line. It is considered to be a really bad model in that case. Since the plotted classifier line is close to the ideal line we can say that our model is a really good fit. Take the area under the perfect plot and call it aP. Take the area under the prediction model and call it aR. Then take the ratio as aR/aP. This ratio is called the Accuracy Rate. The closer is the value to 1, the better the model. This is one way to analyse it.\n",
    "\n",
    "Another way to analyse it would be to project a line from about 50% from the axis on the prediction model and project it on the y-axis. Let us say that we obtain the projection value as X%."
   ]
  },
  {
   "cell_type": "markdown",
   "metadata": {},
   "source": [
    "-> 60%        : it is a really bad model\n",
    "-> 60%<X<70%  : it is still a bad model but better than the first case obviously\n",
    "-> 70%<X<80%  : it is a good model\n",
    "-> 80%<X<90%  : it is a very good model\n",
    "-> 90%<X<100% : it is extraordinarily good and might be one of the overfitting cases."
   ]
  },
  {
   "cell_type": "code",
   "execution_count": null,
   "metadata": {},
   "outputs": [],
   "source": []
  }
 ],
 "metadata": {
  "kernelspec": {
   "display_name": "Python 3",
   "language": "python",
   "name": "python3"
  },
  "language_info": {
   "codemirror_mode": {
    "name": "ipython",
    "version": 3
   },
   "file_extension": ".py",
   "mimetype": "text/x-python",
   "name": "python",
   "nbconvert_exporter": "python",
   "pygments_lexer": "ipython3",
   "version": "3.7.6"
  }
 },
 "nbformat": 4,
 "nbformat_minor": 4
}
